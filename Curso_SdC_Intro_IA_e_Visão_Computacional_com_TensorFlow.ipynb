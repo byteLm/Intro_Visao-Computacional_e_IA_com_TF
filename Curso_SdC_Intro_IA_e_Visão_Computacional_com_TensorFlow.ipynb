{
  "nbformat": 4,
  "nbformat_minor": 0,
  "metadata": {
    "colab": {
      "provenance": [],
      "mount_file_id": "1mNm4ZVS8Y5W240LAC77S37W0I8KfVHYg",
      "authorship_tag": "ABX9TyN5ZYZ55YeyDMeu1iIKoH10",
      "include_colab_link": true
    },
    "kernelspec": {
      "name": "python3",
      "display_name": "Python 3"
    },
    "language_info": {
      "name": "python"
    }
  },
  "cells": [
    {
      "cell_type": "markdown",
      "metadata": {
        "id": "view-in-github",
        "colab_type": "text"
      },
      "source": [
        "<a href=\"https://colab.research.google.com/github/byteLm/Intro_Visao-Computacional_e_IA_com_TF/blob/main/Curso_SdC_Intro_IA_e_Vis%C3%A3o_Computacional_com_TensorFlow.ipynb\" target=\"_parent\"><img src=\"https://colab.research.google.com/assets/colab-badge.svg\" alt=\"Open In Colab\"/></a>"
      ]
    },
    {
      "cell_type": "markdown",
      "source": [
        "# Introdução à Inteligência Artificial e Visão Computacional com TensorFlow\n",
        "---\n",
        "*Inteligência artificial é uma das áreas mais promissoras na atualidade. Sua base interdisciplinar, bem como sua capacidade multiagente e multiambiente possibilitam aplicações nas mais diversas áreas - trata-se de um novo paradigma para solução de problemas diversos, seja para prever valores de residências, seja para detectar e descriminar objetos em cenas sem definição algorítmica direta.*\n",
        "\n",
        "*Este minicurso tem como objetivo introduzir os principais conceitos referentes a área de Inteligência Artificial, bem como aprofundar conceitos de Visão Computacional, perpassando pelo desenvolvimento de um classificador de dígitos e roupas, e posteriormente efetuando a detecção destes em cenas, utilizando Redes Neurais Artificiais (ANN) e TensorFlow/Keras API.*\n",
        "\n",
        "- *Consulte o material completo em:*"
      ],
      "metadata": {
        "id": "p89JoRwKqyyi"
      }
    },
    {
      "cell_type": "code",
      "source": [
        "*GitHub/Slides"
      ],
      "metadata": {
        "id": "br3LvfUwu5p3"
      },
      "execution_count": null,
      "outputs": []
    },
    {
      "cell_type": "markdown",
      "source": [
        "## Visão Computacional\n",
        "Quando tratamos de percepção, sem dúvidas um dos sentidos mais importantes é a visão. Tarefas que para o ser humano são triviais, como distinção entre dois tipos de objetos, ou determinar a localização destes, algoriticamente é uma tarefa bem complicada. Afinal, como descrever limiares do que é ou não é uma cadeira?\n",
        "\n",
        "\n",
        "\n",
        "Visão Computacional pode ser considerada a junção de Processamento Digital de Imagens (PDI) e Inteligência Artificial. Em seu escopo, trataremos de duas clássicas problemáticas: *classificação* e *detecção* de objetos em cenas."
      ],
      "metadata": {
        "id": "ipLhep-dsOqP"
      }
    },
    {
      "cell_type": "markdown",
      "source": [
        "### Relação entre X e Y\n",
        "Tradicionalmente, quando desejamos resolver um problema utilizando programação, pensamos em algoritmos que levem a uma solução. De exemplo, podemos descrever funções do tipo:\n"
      ],
      "metadata": {
        "id": "7TQr0J6PvwCk"
      }
    },
    {
      "cell_type": "code",
      "source": [
        "def Somar(a, b):\n",
        "    return a + b"
      ],
      "metadata": {
        "id": "vFnKF4bbepi5"
      },
      "execution_count": null,
      "outputs": []
    },
    {
      "cell_type": "markdown",
      "source": [
        "\n",
        "O mesmo vale para \"funções mais complexas\", isto é, para relacionar dois valores (X, Y), definiríamos previamente \"a lei de funcionamento\", e por fim obteríamos o resultado:"
      ],
      "metadata": {
        "id": "C7NP83eCewsi"
      }
    },
    {
      "cell_type": "code",
      "source": [
        "def VezesDoisMenosTres(a):\n",
        "    return (2*a)-3"
      ],
      "metadata": {
        "id": "s3zDpJBcezkB"
      },
      "execution_count": null,
      "outputs": []
    },
    {
      "cell_type": "markdown",
      "source": [
        "\n",
        "Quando tratamos de apredizagem de máquina, o paradigma para solução é diferente. Enquanto tradicionalmente colocaríamos as regras para saída, iremos \"mostrar exemplos\" e deixar o algoritmo criá-la. Simples, não?\n",
        "\n",
        "Para a função VezesDoisMenosTres criada anteriormente, poderíamos definir os seguintes dados como exemplo:"
      ],
      "metadata": {
        "id": "XyXC_7FXe3vz"
      }
    },
    {
      "cell_type": "code",
      "source": [
        "import numpy as np\n",
        "Xs = np.array([1, 2, 3, 4], dtype = float)\n",
        "Ys = np.array([-1, 1, 3, 5], dtype = float)"
      ],
      "metadata": {
        "id": "jNHm_BLxe62Z"
      },
      "execution_count": null,
      "outputs": []
    },
    {
      "cell_type": "markdown",
      "source": [
        "Para encontrar a relação entre eles, iremos utilizar apenas uma camada, contendo apenas um neurônio, que recebe apenas um valor X como entrada:"
      ],
      "metadata": {
        "id": "8mM5LkhKe_R2"
      }
    },
    {
      "cell_type": "code",
      "source": [
        "# Carregando bibliotecas\n",
        "import tensorflow as tf\n",
        "from tensorflow import keras"
      ],
      "metadata": {
        "id": "kF_Lyn06-hq0"
      },
      "execution_count": null,
      "outputs": []
    },
    {
      "cell_type": "code",
      "source": [
        "# Criando modelo\n",
        "model = keras.Sequential(keras.layers.Dense(units=1, input_shape=[1]))\n",
        "\n",
        "# Compilando\n",
        "model.compile(optimizer='sgd', loss='mean_squared_error')\n",
        "\n",
        "# Realizando treinamento\n",
        "model.fit(Xs, Ys, epochs = 2000)"
      ],
      "metadata": {
        "id": "NCx-RYnufr6O"
      },
      "execution_count": null,
      "outputs": []
    },
    {
      "cell_type": "code",
      "source": [
        "# Predição\n",
        "model.predict([10])"
      ],
      "metadata": {
        "colab": {
          "base_uri": "https://localhost:8080/"
        },
        "id": "m1v2h29UhdcF",
        "outputId": "97e1b87e-2cca-44a7-a386-bec61f0da572"
      },
      "execution_count": null,
      "outputs": [
        {
          "output_type": "stream",
          "name": "stdout",
          "text": [
            "1/1 [==============================] - 0s 55ms/step\n"
          ]
        },
        {
          "output_type": "execute_result",
          "data": {
            "text/plain": [
              "array([[16.977518]], dtype=float32)"
            ]
          },
          "metadata": {},
          "execution_count": 13
        }
      ]
    },
    {
      "cell_type": "markdown",
      "source": [
        "##### Note que no exemplo acima, ao compilar o modelo, utilizamos a função de perca 'mean_squared_error' (MSE), bem como o otimizador 'Gradiente Descendente Estocástico' (SGD)."
      ],
      "metadata": {
        "id": "owVgRfUMkIVa"
      }
    },
    {
      "cell_type": "markdown",
      "source": [
        "Sobre funções de custo, algumas das mais comuns incluem:\n",
        "\n",
        "* Erro Quadrático Médio (MSE): é uma das funções de custo mais comuns e é usada em problemas de regressão. Ela calcula a média dos erros quadráticos entre as previsões do modelo e os valores alvo.\n",
        "\n",
        "* Entropia Cruzada (CE): função de custo comumente usada em problemas de classificação. Ela calcula a distância entre a distribuição de probabilidade prevista pelo modelo e a distribuição de probabilidade real.\n",
        "\n",
        "* Função Hinge: usada em problemas de classificação binária e multi-classe e mede o erro no caso de previsões incorretas.\n",
        "\n",
        "* Função Logarítmica: usada em problemas de classificação binária e calcula o logaritmo da diferença entre a previsão do modelo e o valor real.\n",
        "\n",
        "Cada uma dessas funções de custo tem suas próprias características e limitações e a escolha da função de custo adequada é uma parte importante do projeto de modelos, você pode consultar mais com este link.\n",
        "\n",
        "\n",
        "Sobre otimizadores, eles são usados para atualizar os pesos do nosso modelo durante o treinamento, de forma a minimizar a função de custo. Eles são cruciais para o processo de aprendizagem. São exemplos comuns:\n",
        "\n",
        "* Gradiente Descendente (SGD): é um dos otimizadores mais básicos e consiste em atualizar os pesos do modelo na direção oposta ao gradiente da função de custo.\n",
        "\n",
        "* Gradiente Descendente Estocástico (SGD): é uma versão do SGD que atualiza os pesos a cada amostra de treinamento, em vez de fazê-lo após o processamento de todo o conjunto de dados de treinamento.\n",
        "\n",
        "* Adam (Adaptive Moment Estimation): combina o SGD com a média exponencial dos gradientes anteriores, a fim de melhorar a convergência do treinamento.\n",
        "\n",
        "* Adagrad: ajusta o ritmo de aprendizado individualmente para cada parâmetro, de forma a lidar com features de alta dimensionalidade e de pesos de diferentes magnitude.\n",
        "\n",
        "* RMSProp: é semelhante ao Adagrad, mas tem uma correção de memória para evitar que o ritmo de aprendizado decaia rapidamente."
      ],
      "metadata": {
        "id": "1v1gIQXBfrU8"
      }
    },
    {
      "cell_type": "markdown",
      "source": [
        "### Classificando dígitos\n",
        "\n"
      ],
      "metadata": {
        "id": "EsY0Th4xejw7"
      }
    },
    {
      "cell_type": "markdown",
      "source": [
        "#### Contextualização\n",
        "Em mesmo viés, para classificar imagens é possível utilizar abordagens clássicas de Processamento Digital de Imagens de maneira \"pura\". Por exemplo, é possível classificar se na figura abaixo está contido **um círculo**, apenas utilizando HoG - não de maneira simples, mas possível."
      ],
      "metadata": {
        "id": "iVaFXsoNAkCU"
      }
    },
    {
      "cell_type": "code",
      "source": [
        "import cv2\n",
        "import matplotlib.pyplot as plt\n",
        "import numpy as np\n",
        "\n",
        "## Carregando imagem 'formas geométricas'\n",
        "path = \"/content/drive/MyDrive/formas-geometricas.png\" # Pode utilizar outras imagens! :)\n",
        "img = cv2.imread(path)\n",
        "plt.imshow(img)\n",
        "\n",
        "# Conversão para escala de cinza\n",
        "gray = cv2.cvtColor(img, cv2.COLOR_BGR2GRAY)\n",
        "\n",
        "# Aplicação filtro de blur\n",
        "blur = cv2.GaussianBlur(gray, (5, 5), 0)\n",
        "\n",
        "# Aplicando detecção de bordas com Canny\n",
        "edges = cv2.Canny(blur, 50, 150, apertureSize=3)\n",
        "\n",
        "# Informa se há circulos\n",
        "circles = cv2.HoughCircles(edges, cv2.HOUGH_GRADIENT, 1, 20, param1=50, param2=30, minRadius=0, maxRadius=0)\n",
        "if circles is not None:\n",
        "    print(\"Está contido um círculo!\\n\")\n"
      ],
      "metadata": {
        "colab": {
          "base_uri": "https://localhost:8080/",
          "height": 285
        },
        "id": "Zy1U3stzXoJU",
        "outputId": "6e02a01a-9859-4a61-a347-a0fa09057b0a"
      },
      "execution_count": null,
      "outputs": [
        {
          "output_type": "stream",
          "name": "stdout",
          "text": [
            "Está contido um círculo!\n",
            "\n"
          ]
        },
        {
          "output_type": "display_data",
          "data": {
            "text/plain": [
              "<Figure size 432x288 with 1 Axes>"
            ],
            "image/png": "[encoded data removed]"
          },
          "metadata": {
            "needs_background": "light"
          }
        }
      ]
    },
    {
      "cell_type": "markdown",
      "source": [
        "Todavia, essa abordagem não funciona ainda para o problema de classificação de dígitos. Visualmente, como podemos diferenciar o 7 e o 2 contido abaixo? Descrever algoritmicamente, com alta modularidade para casos de testes, é *complicado*."
      ],
      "metadata": {
        "id": "dIev_E7XYZ6z"
      }
    },
    {
      "cell_type": "code",
      "source": [
        "# Carregando o dataset mnist do TensorFlow\n",
        "mnist = tf.keras.datasets.mnist\n",
        "(training_images, training_labels), (test_images, test_labels) = mnist.load_data()\n",
        "\n",
        "# Plotando dois exemplos\n",
        "fig, axs = plt.subplots(1,2, figsize=(20, 20))\n",
        "axs[0].imshow(test_images[0]) # 7\n",
        "axs[1].imshow(test_images[1]) # 2"
      ],
      "metadata": {
        "colab": {
          "base_uri": "https://localhost:8080/",
          "height": 235
        },
        "id": "YPGMX4-o-Oih",
        "outputId": "1efd9fcc-39ff-4db2-834b-e2d93cb64f95"
      },
      "execution_count": null,
      "outputs": [
        {
          "output_type": "error",
          "ename": "NameError",
          "evalue": "ignored",
          "traceback": [
            "\u001b[0;31m---------------------------------------------------------------------------\u001b[0m",
            "\u001b[0;31mNameError\u001b[0m                                 Traceback (most recent call last)",
            "\u001b[0;32m<ipython-input-3-fa5cdf1dbecd>\u001b[0m in \u001b[0;36m<module>\u001b[0;34m\u001b[0m\n\u001b[1;32m      1\u001b[0m \u001b[0;31m# Carregando o dataset mnist do TensorFlow\u001b[0m\u001b[0;34m\u001b[0m\u001b[0;34m\u001b[0m\u001b[0;34m\u001b[0m\u001b[0m\n\u001b[0;32m----> 2\u001b[0;31m \u001b[0mmnist\u001b[0m \u001b[0;34m=\u001b[0m \u001b[0mtf\u001b[0m\u001b[0;34m.\u001b[0m\u001b[0mkeras\u001b[0m\u001b[0;34m.\u001b[0m\u001b[0mdatasets\u001b[0m\u001b[0;34m.\u001b[0m\u001b[0mmnist\u001b[0m\u001b[0;34m\u001b[0m\u001b[0;34m\u001b[0m\u001b[0m\n\u001b[0m\u001b[1;32m      3\u001b[0m \u001b[0;34m(\u001b[0m\u001b[0mtraining_images\u001b[0m\u001b[0;34m,\u001b[0m \u001b[0mtraining_labels\u001b[0m\u001b[0;34m)\u001b[0m\u001b[0;34m,\u001b[0m \u001b[0;34m(\u001b[0m\u001b[0mtest_images\u001b[0m\u001b[0;34m,\u001b[0m \u001b[0mtest_labels\u001b[0m\u001b[0;34m)\u001b[0m \u001b[0;34m=\u001b[0m \u001b[0mmnist\u001b[0m\u001b[0;34m.\u001b[0m\u001b[0mload_data\u001b[0m\u001b[0;34m(\u001b[0m\u001b[0;34m)\u001b[0m\u001b[0;34m\u001b[0m\u001b[0;34m\u001b[0m\u001b[0m\n\u001b[1;32m      4\u001b[0m \u001b[0;34m\u001b[0m\u001b[0m\n\u001b[1;32m      5\u001b[0m \u001b[0;31m# Plotando dois exemplos\u001b[0m\u001b[0;34m\u001b[0m\u001b[0;34m\u001b[0m\u001b[0;34m\u001b[0m\u001b[0m\n",
            "\u001b[0;31mNameError\u001b[0m: name 'tf' is not defined"
          ]
        }
      ]
    },
    {
      "cell_type": "markdown",
      "source": [
        "Para tanto, utilizaremos a mesma abordagem apresentada na relação X/Y, com um pouco mais de complexidade."
      ],
      "metadata": {
        "id": "McvStCV2AT4S"
      }
    },
    {
      "cell_type": "markdown",
      "source": [
        "#### Explicando o MNIST"
      ],
      "metadata": {
        "id": "VA8UGd9fA2LD"
      }
    },
    {
      "cell_type": "markdown",
      "source": [
        "MNIST é um conjunto de dados de aprendizado de máquina popular, composto por 70.000 imagens em escala de cinza de dígitos manuscritos (de 0 a 9). É amplamente utilizado como um benchmark para avaliar o desempenho de modelos de visão computacional, bem como é problema clássico do campo.\n",
        "\n",
        "\n",
        "Ainda que o conjunto de dados MNIST seja simples, é possível apresentar conceitos complexos utilizando este; além do mais, o conjunto está integrado com o Keras/Tensorflow, tendo assim o seu acesso facilitado."
      ],
      "metadata": {
        "id": "eP2GSFfUEz8P"
      }
    },
    {
      "cell_type": "markdown",
      "source": [],
      "metadata": {
        "id": "Fb1O-IlhGfVE"
      }
    },
    {
      "cell_type": "markdown",
      "source": [
        "#### Carregando e pré-processando MNIST\n",
        "\n"
      ],
      "metadata": {
        "id": "NKOY8sE2GiLd"
      }
    },
    {
      "cell_type": "markdown",
      "source": [
        "Uma etapa importante, se não a mais importante, antes de efetivamente processarmos informações/dados por uma rede neural, é pré-processarmos os dados. Essa tarefa é importante por vários fatores, podemos citar:\n",
        "\n",
        "- Evitar erros como 'estouro' da representação de ponto flutuante\n",
        "- Agilizar o treinamento diminuindo a amplitude dos pesos\n",
        "- Evitar viés do modelo\n",
        "- Remover outliers ou ruídos\n",
        "\n",
        "Sendo assim, não faremos diferente com o MNIST:"
      ],
      "metadata": {
        "id": "1JGGTqzOGnQt"
      }
    },
    {
      "cell_type": "code",
      "source": [
        "## Inicialmente, iremos carregar o tensorflow\n",
        "import tensorflow as tf\n",
        "from tensorflow import keras\n",
        "\n",
        "## Carregando o dataset\n",
        "mnist = tf.keras.datasets.mnist\n",
        "(training_images, training_labels), (test_images, test_labels) = mnist.load_data()\n",
        "#print(\"\\nAntes do processamento:\\n\\n\" + str(test_images[0]))"
      ],
      "metadata": {
        "id": "zNUPcNguGhWN"
      },
      "execution_count": null,
      "outputs": []
    },
    {
      "cell_type": "code",
      "source": [
        "## Iremos normalizar os dados para diminuir a amplitude dos pesos\n",
        "training_images = training_images/255.0\n",
        "test_images = test_images/255.0\n",
        "\n",
        "#print(\"\\nApós o processamento:\\n\\n\" + str(test_images[0]))"
      ],
      "metadata": {
        "id": "xYssvxMwJplN"
      },
      "execution_count": null,
      "outputs": []
    },
    {
      "cell_type": "markdown",
      "source": [
        "#### Criando e compilando o modelo\n"
      ],
      "metadata": {
        "id": "6rx-GmUeKWvV"
      }
    },
    {
      "cell_type": "code",
      "source": [
        "# Criando modelo de classificação\n",
        "model = tf.keras.models.Sequential([tf.keras.layers.Flatten(), # Transforma a imagem 28x28 em um array 1D\n",
        "                                    tf.keras.layers.Dense(128, activation=tf.nn.relu),\n",
        "                                    tf.keras.layers.Dense(10, activation=tf.nn.softmax)]) # Transforma a saída anterior em probabilidade multiclasse\n",
        "\n",
        "# Compilando modelo\n",
        "model.compile(optimizer = tf.optimizers.Adam(), # A ideia básica: Adam calcula os momentos dos gradientes (isto é, a média e a variação) dos parâmetros do modelo, e utilizá-los para ajustar os pesos de maneira mais precisa.\n",
        "              loss = 'sparse_categorical_crossentropy',\n",
        "              metrics=['accuracy'])"
      ],
      "metadata": {
        "id": "ITwnBYydKSK1"
      },
      "execution_count": null,
      "outputs": []
    },
    {
      "cell_type": "markdown",
      "source": [
        "#### Treinando o modelo"
      ],
      "metadata": {
        "id": "2QavKXmINSHi"
      }
    },
    {
      "cell_type": "code",
      "source": [
        "model.fit(training_images, training_labels, epochs = 50)"
      ],
      "metadata": {
        "colab": {
          "base_uri": "https://localhost:8080/"
        },
        "id": "s4UwNnImNRtl",
        "outputId": "ae630597-b734-4b2a-ce76-fa17ec33cf4b"
      },
      "execution_count": null,
      "outputs": [
        {
          "output_type": "stream",
          "name": "stdout",
          "text": [
            "Epoch 1/50\n",
            "1875/1875 [==============================] - 4s 2ms/step - loss: 0.0033 - accuracy: 0.9991\n",
            "Epoch 2/50\n",
            "1875/1875 [==============================] - 3s 2ms/step - loss: 0.0032 - accuracy: 0.9989\n",
            "Epoch 3/50\n",
            "1875/1875 [==============================] - 3s 2ms/step - loss: 0.0025 - accuracy: 0.9992\n",
            "Epoch 4/50\n",
            "1875/1875 [==============================] - 3s 2ms/step - loss: 0.0030 - accuracy: 0.9991\n",
            "Epoch 5/50\n",
            "1875/1875 [==============================] - 4s 2ms/step - loss: 0.0028 - accuracy: 0.9992\n",
            "Epoch 6/50\n",
            "1875/1875 [==============================] - 3s 2ms/step - loss: 0.0020 - accuracy: 0.9992\n",
            "Epoch 7/50\n",
            "1875/1875 [==============================] - 5s 3ms/step - loss: 0.0021 - accuracy: 0.9993\n",
            "Epoch 8/50\n",
            "1875/1875 [==============================] - 4s 2ms/step - loss: 0.0012 - accuracy: 0.9996\n",
            "Epoch 9/50\n",
            "1875/1875 [==============================] - 4s 2ms/step - loss: 0.0026 - accuracy: 0.9993\n",
            "Epoch 10/50\n",
            "1875/1875 [==============================] - 4s 2ms/step - loss: 0.0021 - accuracy: 0.9994\n",
            "Epoch 11/50\n",
            "1875/1875 [==============================] - 3s 2ms/step - loss: 0.0023 - accuracy: 0.9993\n",
            "Epoch 12/50\n",
            "1875/1875 [==============================] - 4s 2ms/step - loss: 0.0025 - accuracy: 0.9992\n",
            "Epoch 13/50\n",
            "1875/1875 [==============================] - 4s 2ms/step - loss: 0.0031 - accuracy: 0.9991\n",
            "Epoch 14/50\n",
            "1875/1875 [==============================] - 3s 2ms/step - loss: 0.0010 - accuracy: 0.9997\n",
            "Epoch 15/50\n",
            "1875/1875 [==============================] - 4s 2ms/step - loss: 0.0030 - accuracy: 0.9993\n",
            "Epoch 16/50\n",
            "1875/1875 [==============================] - 3s 2ms/step - loss: 0.0036 - accuracy: 0.9989\n",
            "Epoch 17/50\n",
            "1875/1875 [==============================] - 3s 2ms/step - loss: 0.0019 - accuracy: 0.9994\n",
            "Epoch 18/50\n",
            "1875/1875 [==============================] - 3s 2ms/step - loss: 0.0028 - accuracy: 0.9991\n",
            "Epoch 19/50\n",
            "1875/1875 [==============================] - 4s 2ms/step - loss: 0.0014 - accuracy: 0.9995\n",
            "Epoch 20/50\n",
            "1875/1875 [==============================] - 3s 2ms/step - loss: 0.0031 - accuracy: 0.9988\n",
            "Epoch 21/50\n",
            "1875/1875 [==============================] - 3s 2ms/step - loss: 0.0014 - accuracy: 0.9996\n",
            "Epoch 22/50\n",
            "1875/1875 [==============================] - 3s 2ms/step - loss: 0.0026 - accuracy: 0.9993\n",
            "Epoch 23/50\n",
            "1875/1875 [==============================] - 4s 2ms/step - loss: 0.0015 - accuracy: 0.9995\n",
            "Epoch 24/50\n",
            "1875/1875 [==============================] - 3s 2ms/step - loss: 0.0031 - accuracy: 0.9989\n",
            "Epoch 25/50\n",
            "1875/1875 [==============================] - 3s 2ms/step - loss: 0.0010 - accuracy: 0.9998\n",
            "Epoch 26/50\n",
            "1875/1875 [==============================] - 3s 2ms/step - loss: 0.0026 - accuracy: 0.9991\n",
            "Epoch 27/50\n",
            "1875/1875 [==============================] - 4s 2ms/step - loss: 0.0019 - accuracy: 0.9994\n",
            "Epoch 28/50\n",
            "1875/1875 [==============================] - 3s 2ms/step - loss: 0.0019 - accuracy: 0.9994\n",
            "Epoch 29/50\n",
            "1875/1875 [==============================] - 3s 2ms/step - loss: 0.0023 - accuracy: 0.9994\n",
            "Epoch 30/50\n",
            "1875/1875 [==============================] - 3s 2ms/step - loss: 0.0022 - accuracy: 0.9994\n",
            "Epoch 31/50\n",
            "1875/1875 [==============================] - 4s 2ms/step - loss: 0.0022 - accuracy: 0.9992\n",
            "Epoch 32/50\n",
            "1875/1875 [==============================] - 3s 2ms/step - loss: 0.0012 - accuracy: 0.9996\n",
            "Epoch 33/50\n",
            "1875/1875 [==============================] - 3s 2ms/step - loss: 0.0031 - accuracy: 0.9993\n",
            "Epoch 34/50\n",
            "1875/1875 [==============================] - 3s 2ms/step - loss: 0.0012 - accuracy: 0.9997\n",
            "Epoch 35/50\n",
            "1875/1875 [==============================] - 4s 2ms/step - loss: 0.0017 - accuracy: 0.9994\n",
            "Epoch 36/50\n",
            "1875/1875 [==============================] - 3s 2ms/step - loss: 0.0018 - accuracy: 0.9995\n",
            "Epoch 37/50\n",
            "1875/1875 [==============================] - 3s 2ms/step - loss: 0.0013 - accuracy: 0.9997\n",
            "Epoch 38/50\n",
            "1875/1875 [==============================] - 3s 2ms/step - loss: 0.0024 - accuracy: 0.9994\n",
            "Epoch 39/50\n",
            "1875/1875 [==============================] - 4s 2ms/step - loss: 0.0011 - accuracy: 0.9995\n",
            "Epoch 40/50\n",
            "1875/1875 [==============================] - 3s 2ms/step - loss: 0.0025 - accuracy: 0.9992\n",
            "Epoch 41/50\n",
            "1875/1875 [==============================] - 3s 2ms/step - loss: 0.0021 - accuracy: 0.9995\n",
            "Epoch 42/50\n",
            "1875/1875 [==============================] - 3s 2ms/step - loss: 0.0021 - accuracy: 0.9994\n",
            "Epoch 43/50\n",
            "1875/1875 [==============================] - 4s 2ms/step - loss: 0.0013 - accuracy: 0.9995\n",
            "Epoch 44/50\n",
            "1875/1875 [==============================] - 3s 2ms/step - loss: 0.0016 - accuracy: 0.9995\n",
            "Epoch 45/50\n",
            "1875/1875 [==============================] - 3s 2ms/step - loss: 1.4433e-04 - accuracy: 0.9999\n",
            "Epoch 46/50\n",
            "1875/1875 [==============================] - 3s 2ms/step - loss: 1.0284e-05 - accuracy: 1.0000\n",
            "Epoch 47/50\n",
            "1875/1875 [==============================] - 4s 2ms/step - loss: 2.5554e-06 - accuracy: 1.0000\n",
            "Epoch 48/50\n",
            "1875/1875 [==============================] - 3s 2ms/step - loss: 1.2848e-06 - accuracy: 1.0000\n",
            "Epoch 49/50\n",
            "1875/1875 [==============================] - 3s 2ms/step - loss: 7.9689e-07 - accuracy: 1.0000\n",
            "Epoch 50/50\n",
            "1875/1875 [==============================] - 3s 2ms/step - loss: 5.0997e-07 - accuracy: 1.0000\n"
          ]
        },
        {
          "output_type": "execute_result",
          "data": {
            "text/plain": [
              "<keras.callbacks.History at 0x7f45467c43a0>"
            ]
          },
          "metadata": {},
          "execution_count": 31
        }
      ]
    },
    {
      "cell_type": "code",
      "source": [
        "model.evaluate(test_images, test_labels)"
      ],
      "metadata": {
        "colab": {
          "base_uri": "https://localhost:8080/"
        },
        "id": "haC5gDDBNOoG",
        "outputId": "a5389e90-787b-4122-c7a1-00093f47c9ef"
      },
      "execution_count": null,
      "outputs": [
        {
          "output_type": "stream",
          "name": "stdout",
          "text": [
            "313/313 [==============================] - 1s 2ms/step - loss: 0.2060 - accuracy: 0.9815\n"
          ]
        },
        {
          "output_type": "execute_result",
          "data": {
            "text/plain": [
              "[0.20595304667949677, 0.9815000295639038]"
            ]
          },
          "metadata": {},
          "execution_count": 32
        }
      ]
    },
    {
      "cell_type": "code",
      "source": [],
      "metadata": {
        "id": "p3tAQJ1oMB1g"
      },
      "execution_count": null,
      "outputs": []
    }
  ]
}